{
 "cells": [
  {
   "cell_type": "code",
   "execution_count": 19,
   "metadata": {
    "ExecuteTime": {
     "end_time": "2018-12-15T17:56:06.579545Z",
     "start_time": "2018-12-15T17:56:06.573573Z"
    }
   },
   "outputs": [
    {
     "data": {
      "text/plain": [
       "'1.10.0'"
      ]
     },
     "execution_count": 19,
     "metadata": {},
     "output_type": "execute_result"
    }
   ],
   "source": [
    "import tensorflow as tf\n",
    "tf.__version__\n",
    "%matplotlib inline\n",
    "import numpy as np"
   ]
  },
  {
   "cell_type": "code",
   "execution_count": 34,
   "metadata": {
    "ExecuteTime": {
     "end_time": "2018-12-15T18:07:58.423864Z",
     "start_time": "2018-12-15T18:07:58.110656Z"
    }
   },
   "outputs": [],
   "source": [
    "mnist = tf.keras.datasets.mnist # 28 x 28 images of hand written digits\n",
    "(x_train, y_train),(x_test,y_test) = mnist.load_data()"
   ]
  },
  {
   "cell_type": "code",
   "execution_count": 12,
   "metadata": {
    "ExecuteTime": {
     "end_time": "2018-12-15T17:54:50.110809Z",
     "start_time": "2018-12-15T17:54:50.101800Z"
    }
   },
   "outputs": [],
   "source": [
    "%config InlineBackend.figure_format = 'retina'\n",
    "\n",
    "\n",
    "from IPython.core.interactiveshell import InteractiveShell\n",
    "InteractiveShell.ast_node_interactivity = \"all\""
   ]
  },
  {
   "cell_type": "code",
   "execution_count": 22,
   "metadata": {
    "ExecuteTime": {
     "end_time": "2018-12-15T17:57:45.585469Z",
     "start_time": "2018-12-15T17:57:45.424898Z"
    }
   },
   "outputs": [
    {
     "data": {
      "text/plain": [
       "<matplotlib.image.AxesImage at 0x1ed478460f0>"
      ]
     },
     "execution_count": 22,
     "metadata": {},
     "output_type": "execute_result"
    },
    {
     "name": "stdout",
     "output_type": "stream",
     "text": [
      "0\n"
     ]
    },
    {
     "data": {
      "image/png": "[encoded data removed]",
      "text/plain": [
       "<Figure size 432x288 with 1 Axes>"
      ]
     },
     "metadata": {
      "image/png": {
       "height": 250,
       "width": 253
      },
      "needs_background": "light"
     },
     "output_type": "display_data"
    }
   ],
   "source": [
    "import matplotlib.pyplot as plt\n",
    "\n",
    "plt.imshow(x_test[25], cmap= plt.cm.binary)\n",
    "print(y_test[25])"
   ]
  },
  {
   "cell_type": "code",
   "execution_count": 35,
   "metadata": {
    "ExecuteTime": {
     "end_time": "2018-12-15T18:08:02.082066Z",
     "start_time": "2018-12-15T18:08:02.076050Z"
    }
   },
   "outputs": [
    {
     "data": {
      "text/plain": [
       "array([5923, 6742, 5958, 6131, 5842, 5421, 5918, 6265, 5851, 5949],\n",
       "      dtype=int64)"
      ]
     },
     "execution_count": 35,
     "metadata": {},
     "output_type": "execute_result"
    }
   ],
   "source": [
    "np.bincount(y_train)"
   ]
  },
  {
   "cell_type": "code",
   "execution_count": 37,
   "metadata": {
    "ExecuteTime": {
     "end_time": "2018-12-15T18:08:07.203610Z",
     "start_time": "2018-12-15T18:08:07.199621Z"
    }
   },
   "outputs": [
    {
     "data": {
      "text/plain": [
       "((60000, 28, 28), (10000, 28, 28))"
      ]
     },
     "execution_count": 37,
     "metadata": {},
     "output_type": "execute_result"
    }
   ],
   "source": [
    "x_train.shape, x_test.shape, "
   ]
  },
  {
   "cell_type": "code",
   "execution_count": 36,
   "metadata": {
    "ExecuteTime": {
     "end_time": "2018-12-15T18:08:05.110932Z",
     "start_time": "2018-12-15T18:08:04.511536Z"
    }
   },
   "outputs": [],
   "source": [
    "#scale or normalize the data\n",
    "x_train = tf.keras.utils.normalize(x_train, axis=1)\n",
    "x_test = tf.keras.utils.normalize(x_test, axis=1)"
   ]
  },
  {
   "cell_type": "code",
   "execution_count": 31,
   "metadata": {
    "ExecuteTime": {
     "end_time": "2018-12-15T18:07:34.026940Z",
     "start_time": "2018-12-15T18:07:33.863377Z"
    }
   },
   "outputs": [
    {
     "data": {
      "text/plain": [
       "<matplotlib.image.AxesImage at 0x1ed53fd46a0>"
      ]
     },
     "execution_count": 31,
     "metadata": {},
     "output_type": "execute_result"
    },
    {
     "name": "stdout",
     "output_type": "stream",
     "text": [
      "0\n"
     ]
    },
    {
     "data": {
      "image/png": "[encoded data removed]",
      "text/plain": [
       "<Figure size 432x288 with 1 Axes>"
      ]
     },
     "metadata": {
      "image/png": {
       "height": 250,
       "width": 253
      },
      "needs_background": "light"
     },
     "output_type": "display_data"
    }
   ],
   "source": [
    "plt.imshow(x_test[25], cmap= plt.cm.binary)\n",
    "print(y_test[25])"
   ]
  },
  {
   "cell_type": "code",
   "execution_count": 44,
   "metadata": {
    "ExecuteTime": {
     "end_time": "2018-12-15T18:14:11.844532Z",
     "start_time": "2018-12-15T18:14:01.775500Z"
    }
   },
   "outputs": [
    {
     "name": "stdout",
     "output_type": "stream",
     "text": [
      "Epoch 1/3\n",
      "60000/60000 [==============================] - 3s 58us/step - loss: 0.2673 - acc: 0.9228\n",
      "Epoch 2/3\n",
      "60000/60000 [==============================] - 3s 52us/step - loss: 0.1090 - acc: 0.9665\n",
      "Epoch 3/3\n",
      "60000/60000 [==============================] - 3s 52us/step - loss: 0.0713 - acc: 0.9776\n"
     ]
    },
    {
     "data": {
      "text/plain": [
       "<tensorflow.python.keras.callbacks.History at 0x1ed5418bda0>"
      ]
     },
     "execution_count": 44,
     "metadata": {},
     "output_type": "execute_result"
    }
   ],
   "source": [
    "model = tf.keras.models.Sequential()\n",
    "model.add(tf.keras.layers.Flatten())\n",
    "model.add(tf.keras.layers.Dense(128, activation=tf.nn.relu))\n",
    "model.add(tf.keras.layers.Dense(128, activation=tf.nn.relu))\n",
    "model.add(tf.keras.layers.Dense(10, activation=tf.nn.softmax))\n",
    "\n",
    "model.compile(optimizer='adam',\n",
    "             loss='sparse_categorical_crossentropy',\n",
    "             metrics=['accuracy'])\n",
    "\n",
    "model.fit(x_train, y_train, epochs=3)"
   ]
  },
  {
   "cell_type": "code",
   "execution_count": 45,
   "metadata": {
    "ExecuteTime": {
     "end_time": "2018-12-15T18:14:12.182662Z",
     "start_time": "2018-12-15T18:14:11.864478Z"
    }
   },
   "outputs": [
    {
     "name": "stdout",
     "output_type": "stream",
     "text": [
      "10000/10000 [==============================] - 0s 31us/step\n"
     ]
    },
    {
     "data": {
      "text/plain": [
       "(0.09673534489050507, 0.9704)"
      ]
     },
     "execution_count": 45,
     "metadata": {},
     "output_type": "execute_result"
    }
   ],
   "source": [
    "val_loss, val_acc = model.evaluate(x_test, y_test)\n",
    "val_loss, val_acc"
   ]
  },
  {
   "cell_type": "code",
   "execution_count": 46,
   "metadata": {
    "ExecuteTime": {
     "end_time": "2018-12-15T18:15:31.898970Z",
     "start_time": "2018-12-15T18:15:31.677422Z"
    }
   },
   "outputs": [],
   "source": [
    "model.save('epic_num_reader')"
   ]
  },
  {
   "cell_type": "code",
   "execution_count": 48,
   "metadata": {
    "ExecuteTime": {
     "end_time": "2018-12-15T18:16:46.688333Z",
     "start_time": "2018-12-15T18:16:45.280089Z"
    }
   },
   "outputs": [],
   "source": [
    "new_model = tf.keras.models.load_model('epic_num_reader')"
   ]
  },
  {
   "cell_type": "code",
   "execution_count": 49,
   "metadata": {
    "ExecuteTime": {
     "end_time": "2018-12-15T18:17:21.686938Z",
     "start_time": "2018-12-15T18:17:21.409670Z"
    }
   },
   "outputs": [
    {
     "data": {
      "text/plain": [
       "array([[5.88992854e-10, 7.92306807e-08, 9.87746353e-06, ...,\n",
       "        9.99981284e-01, 1.36593634e-08, 4.82813896e-08],\n",
       "       [6.61361466e-10, 1.71956417e-05, 9.99979138e-01, ...,\n",
       "        3.81283316e-09, 2.17995222e-07, 5.07615174e-12],\n",
       "       [2.32656188e-08, 9.99718726e-01, 5.32503327e-05, ...,\n",
       "        3.33953249e-05, 1.31506313e-04, 3.32481306e-07],\n",
       "       ...,\n",
       "       [1.05896425e-09, 1.08496795e-06, 1.77338162e-08, ...,\n",
       "        1.09485864e-05, 2.31357444e-06, 1.80828613e-06],\n",
       "       [5.06460708e-07, 3.58708263e-07, 5.87664672e-08, ...,\n",
       "        1.26439064e-08, 1.42511035e-05, 6.42270057e-11],\n",
       "       [3.95145207e-06, 5.18376986e-09, 8.47590172e-07, ...,\n",
       "        3.83222704e-10, 2.27370165e-07, 2.45784939e-08]], dtype=float32)"
      ]
     },
     "execution_count": 49,
     "metadata": {},
     "output_type": "execute_result"
    }
   ],
   "source": [
    "predictions = new_model.predict([x_test])\n",
    "predictions"
   ]
  },
  {
   "cell_type": "code",
   "execution_count": 57,
   "metadata": {
    "ExecuteTime": {
     "end_time": "2018-12-15T18:21:58.455285Z",
     "start_time": "2018-12-15T18:21:58.449273Z"
    }
   },
   "outputs": [
    {
     "data": {
      "text/plain": [
       "numpy.int64"
      ]
     },
     "execution_count": 57,
     "metadata": {},
     "output_type": "execute_result"
    }
   ],
   "source": [
    "np.argmax([predictions[0]])"
   ]
  },
  {
   "cell_type": "code",
   "execution_count": 51,
   "metadata": {
    "ExecuteTime": {
     "end_time": "2018-12-15T18:18:19.043591Z",
     "start_time": "2018-12-15T18:18:18.855096Z"
    }
   },
   "outputs": [
    {
     "data": {
      "text/plain": [
       "<matplotlib.image.AxesImage at 0x1ed546e2128>"
      ]
     },
     "execution_count": 51,
     "metadata": {},
     "output_type": "execute_result"
    },
    {
     "data": {
      "image/png": "[encoded data removed]",
      "text/plain": [
       "<Figure size 432x288 with 1 Axes>"
      ]
     },
     "metadata": {
      "image/png": {
       "height": 250,
       "width": 253
      },
      "needs_background": "light"
     },
     "output_type": "display_data"
    }
   ],
   "source": [
    "plt.imshow(x_test[0])"
   ]
  },
  {
   "cell_type": "code",
   "execution_count": 60,
   "metadata": {
    "ExecuteTime": {
     "end_time": "2018-12-15T18:23:36.102007Z",
     "start_time": "2018-12-15T18:23:36.016271Z"
    }
   },
   "outputs": [
    {
     "name": "stdout",
     "output_type": "stream",
     "text": [
      "18\n",
      "151\n",
      "241\n",
      "247\n",
      "290\n",
      "320\n",
      "321\n",
      "340\n",
      "381\n",
      "445\n",
      "448\n",
      "543\n",
      "582\n",
      "583\n",
      "619\n",
      "691\n",
      "720\n",
      "740\n",
      "813\n",
      "882\n",
      "900\n",
      "924\n",
      "947\n",
      "956\n",
      "1003\n",
      "1014\n",
      "1039\n",
      "1112\n",
      "1156\n",
      "1178\n",
      "1181\n",
      "1182\n",
      "1192\n",
      "1226\n",
      "1228\n",
      "1232\n",
      "1247\n",
      "1272\n",
      "1299\n",
      "1319\n",
      "1326\n",
      "1393\n",
      "1466\n",
      "1494\n",
      "1500\n",
      "1522\n",
      "1530\n",
      "1549\n",
      "1553\n",
      "1569\n",
      "1570\n",
      "1609\n",
      "1621\n",
      "1681\n",
      "1709\n",
      "1737\n",
      "1790\n",
      "1800\n",
      "1850\n",
      "1878\n",
      "1901\n",
      "1952\n",
      "1955\n",
      "1970\n",
      "1984\n",
      "1987\n",
      "2004\n",
      "2018\n",
      "2043\n",
      "2073\n",
      "2093\n",
      "2109\n",
      "2118\n",
      "2135\n",
      "2138\n",
      "2162\n",
      "2174\n",
      "2182\n",
      "2186\n",
      "2189\n",
      "2224\n",
      "2272\n",
      "2293\n",
      "2298\n",
      "2325\n",
      "2329\n",
      "2387\n",
      "2406\n",
      "2414\n",
      "2488\n",
      "2526\n",
      "2582\n",
      "2607\n",
      "2617\n",
      "2648\n",
      "2654\n",
      "2720\n",
      "2743\n",
      "2760\n",
      "2771\n",
      "2780\n",
      "2810\n",
      "2863\n",
      "2915\n",
      "2921\n",
      "2927\n",
      "2939\n",
      "2970\n",
      "3060\n",
      "3073\n",
      "3100\n",
      "3109\n",
      "3117\n",
      "3240\n",
      "3251\n",
      "3260\n",
      "3422\n",
      "3457\n",
      "3503\n",
      "3520\n",
      "3533\n",
      "3558\n",
      "3559\n",
      "3565\n",
      "3567\n",
      "3574\n",
      "3597\n",
      "3601\n",
      "3604\n",
      "3681\n",
      "3702\n",
      "3716\n",
      "3751\n",
      "3778\n",
      "3780\n",
      "3798\n",
      "3808\n",
      "3811\n",
      "3817\n",
      "3818\n",
      "3821\n",
      "3838\n",
      "3850\n",
      "3853\n",
      "3869\n",
      "3871\n",
      "3893\n",
      "3906\n",
      "3926\n",
      "3941\n",
      "3968\n",
      "3976\n",
      "3985\n",
      "3988\n",
      "4000\n",
      "4065\n",
      "4075\n",
      "4078\n",
      "4093\n",
      "4100\n",
      "4154\n",
      "4176\n",
      "4224\n",
      "4248\n",
      "4271\n",
      "4284\n",
      "4289\n",
      "4294\n",
      "4306\n",
      "4355\n",
      "4360\n",
      "4369\n",
      "4405\n",
      "4425\n",
      "4437\n",
      "4497\n",
      "4500\n",
      "4504\n",
      "4505\n",
      "4536\n",
      "4547\n",
      "4548\n",
      "4601\n",
      "4615\n",
      "4619\n",
      "4635\n",
      "4662\n",
      "4731\n",
      "4761\n",
      "4807\n",
      "4814\n",
      "4823\n",
      "4879\n",
      "4880\n",
      "4886\n",
      "4910\n",
      "4950\n",
      "4956\n",
      "4978\n",
      "4997\n",
      "5140\n",
      "5176\n",
      "5331\n",
      "5457\n",
      "5634\n",
      "5642\n",
      "5734\n",
      "5749\n",
      "5876\n",
      "5887\n",
      "5888\n",
      "5918\n",
      "5922\n",
      "5937\n",
      "5955\n",
      "5972\n",
      "5973\n",
      "5982\n",
      "6028\n",
      "6043\n",
      "6046\n",
      "6059\n",
      "6101\n",
      "6166\n",
      "6173\n",
      "6347\n",
      "6400\n",
      "6421\n",
      "6532\n",
      "6555\n",
      "6560\n",
      "6571\n",
      "6574\n",
      "6597\n",
      "6651\n",
      "6735\n",
      "6755\n",
      "6783\n",
      "6784\n",
      "6817\n",
      "6847\n",
      "7432\n",
      "7473\n",
      "7481\n",
      "7800\n",
      "7812\n",
      "7821\n",
      "7915\n",
      "7921\n",
      "7964\n",
      "8020\n",
      "8094\n",
      "8279\n",
      "8311\n",
      "8325\n",
      "8410\n",
      "8493\n",
      "8509\n",
      "8519\n",
      "8522\n",
      "8523\n",
      "9009\n",
      "9015\n",
      "9024\n",
      "9071\n",
      "9170\n",
      "9280\n",
      "9422\n",
      "9482\n",
      "9497\n",
      "9517\n",
      "9587\n",
      "9634\n",
      "9664\n",
      "9679\n",
      "9700\n",
      "9726\n",
      "9729\n",
      "9741\n",
      "9742\n",
      "9745\n",
      "9749\n",
      "9755\n",
      "9768\n",
      "9770\n",
      "9779\n",
      "9792\n",
      "9808\n",
      "9839\n",
      "9892\n",
      "9905\n",
      "9936\n",
      "9941\n",
      "9944\n",
      "9980\n",
      "9982\n"
     ]
    }
   ],
   "source": [
    "for a in range(0,predictions.shape[0]):\n",
    "    if np.argmax([predictions[a]]) != y_test[a]:\n",
    "        print(a)"
   ]
  },
  {
   "cell_type": "code",
   "execution_count": 66,
   "metadata": {
    "ExecuteTime": {
     "end_time": "2018-12-15T18:25:18.828815Z",
     "start_time": "2018-12-15T18:25:18.648302Z"
    }
   },
   "outputs": [
    {
     "data": {
      "text/plain": [
       "<matplotlib.image.AxesImage at 0x1ed0111a748>"
      ]
     },
     "execution_count": 66,
     "metadata": {},
     "output_type": "execute_result"
    },
    {
     "data": {
      "text/plain": [
       "3"
      ]
     },
     "execution_count": 66,
     "metadata": {},
     "output_type": "execute_result"
    },
    {
     "data": {
      "image/png": "[encoded data removed]",
      "text/plain": [
       "<Figure size 432x288 with 1 Axes>"
      ]
     },
     "metadata": {
      "image/png": {
       "height": 250,
       "width": 253
      },
      "needs_background": "light"
     },
     "output_type": "display_data"
    }
   ],
   "source": [
    "plt.imshow(x_test[1553])\n",
    "np.argmax([predictions[1553]])"
   ]
  },
  {
   "cell_type": "code",
   "execution_count": 68,
   "metadata": {
    "ExecuteTime": {
     "end_time": "2018-12-15T18:30:05.328773Z",
     "start_time": "2018-12-15T18:30:05.324784Z"
    }
   },
   "outputs": [],
   "source": [
    "fmnist= tf.keras.datasets.fashion_mnist"
   ]
  },
  {
   "cell_type": "code",
   "execution_count": 69,
   "metadata": {
    "ExecuteTime": {
     "end_time": "2018-12-15T18:30:38.569924Z",
     "start_time": "2018-12-15T18:30:31.469852Z"
    }
   },
   "outputs": [
    {
     "name": "stdout",
     "output_type": "stream",
     "text": [
      "Downloading data from https://storage.googleapis.com/tensorflow/tf-keras-datasets/train-labels-idx1-ubyte.gz\n",
      "32768/29515 [=================================] - 0s 2us/step\n",
      "Downloading data from https://storage.googleapis.com/tensorflow/tf-keras-datasets/train-images-idx3-ubyte.gz\n",
      "26427392/26421880 [==============================] - 3s 0us/step\n",
      "Downloading data from https://storage.googleapis.com/tensorflow/tf-keras-datasets/t10k-labels-idx1-ubyte.gz\n",
      "8192/5148 [===============================================] - 0s 1us/step\n",
      "Downloading data from https://storage.googleapis.com/tensorflow/tf-keras-datasets/t10k-images-idx3-ubyte.gz\n",
      "4423680/4422102 [==============================] - 1s 0us/step\n"
     ]
    }
   ],
   "source": [
    "(x_train,y_train),(x_test,y_test) = fmnist.load_data()"
   ]
  },
  {
   "cell_type": "code",
   "execution_count": 70,
   "metadata": {
    "ExecuteTime": {
     "end_time": "2018-12-15T18:30:43.905684Z",
     "start_time": "2018-12-15T18:30:43.901670Z"
    }
   },
   "outputs": [
    {
     "data": {
      "text/plain": [
       "(60000, 28, 28)"
      ]
     },
     "execution_count": 70,
     "metadata": {},
     "output_type": "execute_result"
    }
   ],
   "source": [
    "x_train.shape"
   ]
  },
  {
   "cell_type": "code",
   "execution_count": 73,
   "metadata": {
    "ExecuteTime": {
     "end_time": "2018-12-15T18:31:32.613826Z",
     "start_time": "2018-12-15T18:31:32.447315Z"
    }
   },
   "outputs": [
    {
     "data": {
      "text/plain": [
       "<matplotlib.image.AxesImage at 0x1ed0788f0f0>"
      ]
     },
     "execution_count": 73,
     "metadata": {},
     "output_type": "execute_result"
    },
    {
     "data": {
      "image/png": "[encoded data removed]",
      "text/plain": [
       "<Figure size 432x288 with 1 Axes>"
      ]
     },
     "metadata": {
      "image/png": {
       "height": 250,
       "width": 253
      },
      "needs_background": "light"
     },
     "output_type": "display_data"
    }
   ],
   "source": [
    "plt.imshow(x_train[5], cmap = plt.cm.binary)"
   ]
  },
  {
   "cell_type": "code",
   "execution_count": 75,
   "metadata": {
    "ExecuteTime": {
     "end_time": "2018-12-15T18:31:55.558626Z",
     "start_time": "2018-12-15T18:31:55.554595Z"
    }
   },
   "outputs": [
    {
     "data": {
      "text/plain": [
       "2"
      ]
     },
     "execution_count": 75,
     "metadata": {},
     "output_type": "execute_result"
    }
   ],
   "source": [
    "y_train[5]"
   ]
  },
  {
   "cell_type": "code",
   "execution_count": 80,
   "metadata": {
    "ExecuteTime": {
     "end_time": "2018-12-15T18:33:11.883561Z",
     "start_time": "2018-12-15T18:33:11.876580Z"
    }
   },
   "outputs": [
    {
     "data": {
      "text/plain": [
       "Counter({6000: 10})"
      ]
     },
     "execution_count": 80,
     "metadata": {},
     "output_type": "execute_result"
    },
    {
     "data": {
      "text/plain": [
       "array([6000, 6000, 6000, 6000, 6000, 6000, 6000, 6000, 6000, 6000],\n",
       "      dtype=int64)"
      ]
     },
     "execution_count": 80,
     "metadata": {},
     "output_type": "execute_result"
    }
   ],
   "source": [
    "from collections import Counter\n",
    "Counter(np.bincount(y_train))\n",
    "np.bincount(y_train)"
   ]
  },
  {
   "cell_type": "code",
   "execution_count": 81,
   "metadata": {
    "ExecuteTime": {
     "end_time": "2018-12-15T18:34:14.053395Z",
     "start_time": "2018-12-15T18:34:13.461013Z"
    }
   },
   "outputs": [],
   "source": [
    "x_train = tf.keras.utils.normalize(x_train)\n",
    "x_test = tf.keras.utils.normalize(x_test)"
   ]
  },
  {
   "cell_type": "code",
   "execution_count": 82,
   "metadata": {
    "ExecuteTime": {
     "end_time": "2018-12-15T18:34:29.382395Z",
     "start_time": "2018-12-15T18:34:29.210900Z"
    }
   },
   "outputs": [
    {
     "data": {
      "text/plain": [
       "<matplotlib.image.AxesImage at 0x1ed076b1668>"
      ]
     },
     "execution_count": 82,
     "metadata": {},
     "output_type": "execute_result"
    },
    {
     "data": {
      "image/png": "[encoded data removed]",
      "text/plain": [
       "<Figure size 432x288 with 1 Axes>"
      ]
     },
     "metadata": {
      "image/png": {
       "height": 250,
       "width": 253
      },
      "needs_background": "light"
     },
     "output_type": "display_data"
    }
   ],
   "source": [
    "plt.imshow(x_train[5], cmap = plt.cm.binary)"
   ]
  },
  {
   "cell_type": "code",
   "execution_count": 83,
   "metadata": {
    "ExecuteTime": {
     "end_time": "2018-12-15T18:34:40.043982Z",
     "start_time": "2018-12-15T18:34:40.032998Z"
    }
   },
   "outputs": [
    {
     "data": {
      "text/plain": [
       "array([[0.        , 0.        , 0.        , 0.        , 0.00231733,\n",
       "        0.        , 0.        , 0.        , 0.        , 0.05098127,\n",
       "        0.2039251 , 0.43565816, 0.39858087, 0.30588765, 0.28966633,\n",
       "        0.32674362, 0.4611488 , 0.33137828, 0.02085598, 0.        ,\n",
       "        0.        , 0.        , 0.00231733, 0.        , 0.        ,\n",
       "        0.        , 0.        , 0.        ],\n",
       "       [0.        , 0.        , 0.        , 0.00127831, 0.        ,\n",
       "        0.        , 0.02556611, 0.16745799, 0.25438275, 0.26333089,\n",
       "        0.25054783, 0.25821766, 0.30934987, 0.32596784, 0.32596784,\n",
       "        0.31957632, 0.28378377, 0.25182614, 0.26333089, 0.24032139,\n",
       "        0.16106646, 0.02173119, 0.        , 0.        , 0.        ,\n",
       "        0.        , 0.        , 0.        ],\n",
       "       [0.        , 0.        , 0.        , 0.0014005 , 0.        ,\n",
       "        0.04901735, 0.29970607, 0.26749467, 0.25629071, 0.24928823,\n",
       "        0.24508674, 0.23528327, 0.21007435, 0.2268803 , 0.22267881,\n",
       "        0.21287534, 0.22127832, 0.25068872, 0.25629071, 0.26469368,\n",
       "        0.27309666, 0.2590917 , 0.11484064, 0.        , 0.        ,\n",
       "        0.        , 0.        , 0.        ],\n",
       "       [0.        , 0.        , 0.        , 0.        , 0.        ,\n",
       "        0.23329891, 0.26074584, 0.2360436 , 0.24290533, 0.24153299,\n",
       "        0.23467125, 0.23192656, 0.22232013, 0.21271371, 0.20310728,\n",
       "        0.21134136, 0.23192656, 0.23878829, 0.24016064, 0.24016064,\n",
       "        0.24290533, 0.25113941, 0.25800114, 0.01646816, 0.        ,\n",
       "        0.        , 0.        , 0.        ],\n",
       "       [0.        , 0.        , 0.        , 0.        , 0.03138077,\n",
       "        0.24351479, 0.22594156, 0.2234311 , 0.21841018, 0.23096248,\n",
       "        0.23472818, 0.23723864, 0.23472818, 0.23096248, 0.22719679,\n",
       "        0.23723864, 0.25104618, 0.24728049, 0.24225956, 0.23849387,\n",
       "        0.2234311 , 0.21966541, 0.24351479, 0.11297078, 0.        ,\n",
       "        0.        , 0.        , 0.        ],\n",
       "       [0.        , 0.        , 0.        , 0.        , 0.04681434,\n",
       "        0.2429887 , 0.21289377, 0.21958153, 0.23184243, 0.22738392,\n",
       "        0.23518631, 0.23295705, 0.23407168, 0.23630093, 0.23518631,\n",
       "        0.23853019, 0.23964481, 0.23741556, 0.23853019, 0.23518631,\n",
       "        0.23518631, 0.21289377, 0.22292541, 0.17611107, 0.        ,\n",
       "        0.        , 0.        , 0.        ],\n",
       "       [0.        , 0.        , 0.        , 0.        , 0.11547383,\n",
       "        0.28999678, 0.28212357, 0.28474797, 0.28737238, 0.27687475,\n",
       "        0.24275749, 0.19683039, 0.15483991, 0.14040568, 0.12990806,\n",
       "        0.11547383, 0.10891282, 0.11809824, 0.17714736, 0.27818696,\n",
       "        0.26637713, 0.27162594, 0.28737238, 0.22176224, 0.        ,\n",
       "        0.        , 0.        , 0.        ],\n",
       "       [0.        , 0.        , 0.        , 0.        , 0.        ,\n",
       "        0.05599708, 0.24472797, 0.33598246, 0.08295863, 0.        ,\n",
       "        0.        , 0.        , 0.02073966, 0.03940535, 0.05807104,\n",
       "        0.08088467, 0.09747639, 0.07466277, 0.        , 0.        ,\n",
       "        0.42101506, 0.47701214, 0.45627248, 0.42101506, 0.        ,\n",
       "        0.        , 0.        , 0.        ],\n",
       "       [0.        , 0.        , 0.        , 0.        , 0.20711197,\n",
       "        0.20411035, 0.10655761, 0.10355599, 0.08104382, 0.32417526,\n",
       "        0.32567608, 0.30466472, 0.2761493 , 0.25213632, 0.24463226,\n",
       "        0.24313145, 0.24463226, 0.26714443, 0.33167932, 0.27915092,\n",
       "        0.05703083, 0.0390211 , 0.01050568, 0.        , 0.        ,\n",
       "        0.        , 0.        , 0.        ],\n",
       "       [0.        , 0.        , 0.        , 0.        , 0.11079073,\n",
       "        0.22158146, 0.25465332, 0.37040482, 0.21331349, 0.10913714,\n",
       "        0.13394103, 0.19347038, 0.21331349, 0.2116599 , 0.21827427,\n",
       "        0.22654223, 0.21662068, 0.21331349, 0.14220899, 0.12071229,\n",
       "        0.25961409, 0.24969254, 0.22158146, 0.35717608, 0.02976467,\n",
       "        0.        , 0.        , 0.        ],\n",
       "       [0.        , 0.        , 0.        , 0.        , 0.2114386 ,\n",
       "        0.20623076, 0.17914995, 0.19060721, 0.21456331, 0.26560022,\n",
       "        0.26560022, 0.26039237, 0.25310138, 0.24997667, 0.2489351 ,\n",
       "        0.24476883, 0.24789354, 0.25414295, 0.26560022, 0.24789354,\n",
       "        0.19164878, 0.16665112, 0.08957497, 0.10207381, 0.        ,\n",
       "        0.        , 0.        , 0.        ],\n",
       "       [0.        , 0.        , 0.        , 0.        , 0.18085351,\n",
       "        0.27869229, 0.3320589 , 0.22384327, 0.15565261, 0.18826553,\n",
       "        0.14379336, 0.14824058, 0.15565261, 0.16899426, 0.17344148,\n",
       "        0.17344148, 0.16751185, 0.1526878 , 0.14527577, 0.16454704,\n",
       "        0.21050162, 0.37653107, 0.2831395 , 0.37801347, 0.07263788,\n",
       "        0.        , 0.        , 0.        ],\n",
       "       [0.        , 0.        , 0.        , 0.        , 0.20082376,\n",
       "        0.22053652, 0.24640952, 0.11704452, 0.18973533, 0.24394543,\n",
       "        0.24271338, 0.24640952, 0.24640952, 0.24394543, 0.24271338,\n",
       "        0.24394543, 0.24517747, 0.24887362, 0.24640952, 0.21684038,\n",
       "        0.10595609, 0.25380181, 0.19343147, 0.19959171, 0.01232048,\n",
       "        0.        , 0.        , 0.        ],\n",
       "       [0.        , 0.        , 0.        , 0.        , 0.2421286 ,\n",
       "        0.24704492, 0.28145913, 0.08726462, 0.1769874 , 0.23844136,\n",
       "        0.22246333, 0.22492149, 0.22000517, 0.22369241, 0.22123425,\n",
       "        0.22000517, 0.22123425, 0.23352504, 0.22737965, 0.2421286 ,\n",
       "        0.09341002, 0.26916834, 0.22737965, 0.24704492, 0.04178869,\n",
       "        0.        , 0.        , 0.        ],\n",
       "       [0.        , 0.        , 0.        , 0.        , 0.24082464,\n",
       "        0.23356359, 0.27349934, 0.0701901 , 0.1863668 , 0.23235342,\n",
       "        0.22267203, 0.22630255, 0.22267203, 0.22509237, 0.22267203,\n",
       "        0.2238822 , 0.22146185, 0.23235342, 0.23114324, 0.24203481,\n",
       "        0.06776975, 0.26502812, 0.24566533, 0.25050603, 0.07261044,\n",
       "        0.        , 0.        , 0.        ],\n",
       "       [0.        , 0.        , 0.        , 0.        , 0.24426089,\n",
       "        0.23575429, 0.27221114, 0.04982436, 0.19808221, 0.23089338,\n",
       "        0.22603247, 0.22603247, 0.22360201, 0.22481724, 0.22238678,\n",
       "        0.22481724, 0.21631064, 0.23089338, 0.23575429, 0.24547612,\n",
       "        0.04010253, 0.25641317, 0.24304566, 0.25033703, 0.08871167,\n",
       "        0.        , 0.        , 0.        ],\n",
       "       [0.        , 0.        , 0.        , 0.        , 0.24378828,\n",
       "        0.23893677, 0.2692587 , 0.02061891, 0.20861485, 0.23044663,\n",
       "        0.22559513, 0.226808  , 0.22074362, 0.22559513, 0.22438225,\n",
       "        0.226808  , 0.21831786, 0.226808  , 0.23408526, 0.24500116,\n",
       "        0.0315348 , 0.25712993, 0.24500116, 0.24621403, 0.09217865,\n",
       "        0.        , 0.        , 0.        ],\n",
       "       [0.        , 0.        , 0.        , 0.        , 0.24461506,\n",
       "        0.24094583, 0.27274579, 0.        , 0.21648433, 0.23116123,\n",
       "        0.22504585, 0.22626893, 0.2177074 , 0.22504585, 0.22382278,\n",
       "        0.22504585, 0.22015355, 0.22382278, 0.23116123, 0.24828428,\n",
       "        0.04280764, 0.23972276, 0.24828428, 0.24828428, 0.10273832,\n",
       "        0.        , 0.        , 0.        ],\n",
       "       [0.        , 0.        , 0.        , 0.        , 0.24659263,\n",
       "        0.24289374, 0.27495078, 0.        , 0.22809818, 0.23056411,\n",
       "        0.22809818, 0.23056411, 0.22193337, 0.22686522, 0.22439929,\n",
       "        0.22563226, 0.21946744, 0.22439929, 0.22563226, 0.25275744,\n",
       "        0.05425038, 0.19604114, 0.25522337, 0.24782559, 0.10480187,\n",
       "        0.        , 0.        , 0.        ],\n",
       "       [0.        , 0.        , 0.        , 0.        , 0.23205172,\n",
       "        0.24570182, 0.27920662, 0.        , 0.24073815, 0.23329264,\n",
       "        0.22832897, 0.22956989, 0.22336529, 0.22708805, 0.22708805,\n",
       "        0.22832897, 0.22460621, 0.22460621, 0.21964254, 0.25562917,\n",
       "        0.05708224, 0.16007846, 0.26183376, 0.24818366, 0.10920081,\n",
       "        0.        , 0.        , 0.        ],\n",
       "       [0.        , 0.        , 0.        , 0.00748305, 0.23197448,\n",
       "        0.24943493, 0.26315385, 0.        , 0.24818775, 0.23571601,\n",
       "        0.22948014, 0.22948014, 0.23072731, 0.22698579, 0.22823296,\n",
       "        0.22948014, 0.23072731, 0.22698579, 0.21825556, 0.2556708 ,\n",
       "        0.06235873, 0.12097594, 0.26938972, 0.24569341, 0.11598724,\n",
       "        0.        , 0.        , 0.        ],\n",
       "       [0.        , 0.        , 0.        , 0.0063206 , 0.23386229,\n",
       "        0.25788058, 0.23259817, 0.        , 0.25535234, 0.23765465,\n",
       "        0.23006993, 0.23006993, 0.23133405, 0.23133405, 0.23259817,\n",
       "        0.23006993, 0.22754169, 0.23006993, 0.21995696, 0.25535234,\n",
       "        0.07963959, 0.07458311, 0.27810651, 0.24776761, 0.11882732,\n",
       "        0.        , 0.        , 0.        ],\n",
       "       [0.        , 0.        , 0.        , 0.00623262, 0.2293603 ,\n",
       "        0.25678381, 0.19570417, 0.        , 0.25429076, 0.23309987,\n",
       "        0.23309987, 0.23559291, 0.23933248, 0.23683944, 0.23683944,\n",
       "        0.23808596, 0.23683944, 0.23309987, 0.22811377, 0.25179772,\n",
       "        0.09722882, 0.04362832, 0.27672818, 0.2455651 , 0.11841972,\n",
       "        0.        , 0.        , 0.        ],\n",
       "       [0.        , 0.        , 0.        , 0.00703619, 0.25752461,\n",
       "        0.29270556, 0.17871926, 0.        , 0.27722594, 0.23360155,\n",
       "        0.21530746, 0.2096785 , 0.2096785 , 0.20545679, 0.20827127,\n",
       "        0.2096785 , 0.21108574, 0.21249298, 0.22234365, 0.26878251,\n",
       "        0.12665145, 0.01125791, 0.31381414, 0.27441147, 0.13931659,\n",
       "        0.        , 0.        , 0.        ],\n",
       "       [0.        , 0.        , 0.        , 0.00784446, 0.24056337,\n",
       "        0.2719412 , 0.1490447 , 0.        , 0.26671156, 0.22618186,\n",
       "        0.21049295, 0.23533373, 0.23010409, 0.22487445, 0.22618186,\n",
       "        0.22618186, 0.22748927, 0.23010409, 0.21180036, 0.26409674,\n",
       "        0.15035211, 0.        , 0.2993968 , 0.26017451, 0.13727801,\n",
       "        0.        , 0.        , 0.        ],\n",
       "       [0.        , 0.        , 0.        , 0.01486742, 0.29404462,\n",
       "        0.33699495, 0.18997265, 0.        , 0.19988426, 0.22301137,\n",
       "        0.18832071, 0.19327652, 0.18832071, 0.18832071, 0.19327652,\n",
       "        0.19492845, 0.19658039, 0.19327652, 0.18666877, 0.2428346 ,\n",
       "        0.10407197, 0.        , 0.37168561, 0.32377946, 0.17675716,\n",
       "        0.        , 0.        , 0.        ],\n",
       "       [0.        , 0.        , 0.        , 0.04061281, 0.40612813,\n",
       "        0.46479108, 0.29557103, 0.        , 0.        , 0.        ,\n",
       "        0.        , 0.        , 0.        , 0.        , 0.        ,\n",
       "        0.        , 0.        , 0.        , 0.        , 0.        ,\n",
       "        0.        , 0.        , 0.50540389, 0.44448467, 0.27752089,\n",
       "        0.        , 0.        , 0.        ],\n",
       "       [0.        , 0.        , 0.        , 0.        , 0.4472991 ,\n",
       "        0.47902244, 0.24109739, 0.        , 0.00317233, 0.00317233,\n",
       "        0.        , 0.        , 0.        , 0.        , 0.        ,\n",
       "        0.        , 0.        , 0.        , 0.        , 0.        ,\n",
       "        0.        , 0.        , 0.42192043, 0.52977978, 0.23158038,\n",
       "        0.        , 0.        , 0.        ]])"
      ]
     },
     "execution_count": 83,
     "metadata": {},
     "output_type": "execute_result"
    }
   ],
   "source": [
    "x_train[5]"
   ]
  },
  {
   "cell_type": "code",
   "execution_count": 87,
   "metadata": {
    "ExecuteTime": {
     "end_time": "2018-12-15T18:39:58.552521Z",
     "start_time": "2018-12-15T18:39:27.453701Z"
    }
   },
   "outputs": [
    {
     "name": "stdout",
     "output_type": "stream",
     "text": [
      "Epoch 1/10\n",
      "60000/60000 [==============================] - 4s 59us/step - loss: 0.4748 - acc: 0.8283\n",
      "Epoch 2/10\n",
      "60000/60000 [==============================] - 3s 52us/step - loss: 0.3512 - acc: 0.8703\n",
      "Epoch 3/10\n",
      "60000/60000 [==============================] - 3s 53us/step - loss: 0.3187 - acc: 0.8814\n",
      "Epoch 4/10\n",
      "60000/60000 [==============================] - 3s 49us/step - loss: 0.2965 - acc: 0.8888\n",
      "Epoch 5/10\n",
      "60000/60000 [==============================] - 3s 50us/step - loss: 0.2784 - acc: 0.8953\n",
      "Epoch 6/10\n",
      "60000/60000 [==============================] - 3s 49us/step - loss: 0.2665 - acc: 0.8987\n",
      "Epoch 7/10\n",
      "60000/60000 [==============================] - 3s 49us/step - loss: 0.2505 - acc: 0.9044\n",
      "Epoch 8/10\n",
      "60000/60000 [==============================] - 3s 52us/step - loss: 0.2414 - acc: 0.9075\n",
      "Epoch 9/10\n",
      "60000/60000 [==============================] - 3s 50us/step - loss: 0.2319 - acc: 0.9113\n",
      "Epoch 10/10\n",
      "60000/60000 [==============================] - 3s 49us/step - loss: 0.2216 - acc: 0.9144\n"
     ]
    },
    {
     "data": {
      "text/plain": [
       "<tensorflow.python.keras.callbacks.History at 0x1ed055bbe48>"
      ]
     },
     "execution_count": 87,
     "metadata": {},
     "output_type": "execute_result"
    }
   ],
   "source": [
    "model1 = tf.keras.models.Sequential()\n",
    "model1.add(tf.keras.layers.Flatten())\n",
    "model1.add(tf.keras.layers.Dense(128, activation=tf.nn.relu))\n",
    "model1.add(tf.keras.layers.Dense(128, activation=tf.nn.relu))\n",
    "model1.add(tf.keras.layers.Dense(10, activation=tf.nn.softmax))\n",
    "\n",
    "model1.compile(optimizer='adam',\n",
    "            loss='sparse_categorical_crossentropy',\n",
    "            metrics=['accuracy'])\n",
    "model1.fit(x_train,y_train, epochs=10)"
   ]
  },
  {
   "cell_type": "code",
   "execution_count": 88,
   "metadata": {
    "ExecuteTime": {
     "end_time": "2018-12-15T18:40:41.139171Z",
     "start_time": "2018-12-15T18:40:40.790137Z"
    }
   },
   "outputs": [
    {
     "name": "stdout",
     "output_type": "stream",
     "text": [
      "10000/10000 [==============================] - 0s 34us/step\n"
     ]
    },
    {
     "data": {
      "text/plain": [
       "(0.34208730911016466, 0.8818)"
      ]
     },
     "execution_count": 88,
     "metadata": {},
     "output_type": "execute_result"
    }
   ],
   "source": [
    "val_loss, val_acc = model1.evaluate(x_test,y_test)\n",
    "val_loss, val_acc"
   ]
  },
  {
   "cell_type": "code",
   "execution_count": null,
   "metadata": {},
   "outputs": [],
   "source": []
  },
  {
   "cell_type": "code",
   "execution_count": null,
   "metadata": {},
   "outputs": [],
   "source": []
  },
  {
   "cell_type": "code",
   "execution_count": null,
   "metadata": {},
   "outputs": [],
   "source": []
  },
  {
   "cell_type": "code",
   "execution_count": null,
   "metadata": {},
   "outputs": [],
   "source": []
  },
  {
   "cell_type": "code",
   "execution_count": null,
   "metadata": {},
   "outputs": [],
   "source": []
  },
  {
   "cell_type": "code",
   "execution_count": null,
   "metadata": {},
   "outputs": [],
   "source": []
  },
  {
   "cell_type": "code",
   "execution_count": null,
   "metadata": {},
   "outputs": [],
   "source": []
  },
  {
   "cell_type": "code",
   "execution_count": null,
   "metadata": {},
   "outputs": [],
   "source": []
  },
  {
   "cell_type": "code",
   "execution_count": null,
   "metadata": {},
   "outputs": [],
   "source": []
  },
  {
   "cell_type": "code",
   "execution_count": null,
   "metadata": {},
   "outputs": [],
   "source": []
  },
  {
   "cell_type": "code",
   "execution_count": null,
   "metadata": {},
   "outputs": [],
   "source": []
  },
  {
   "cell_type": "code",
   "execution_count": null,
   "metadata": {},
   "outputs": [],
   "source": []
  },
  {
   "cell_type": "code",
   "execution_count": null,
   "metadata": {},
   "outputs": [],
   "source": []
  }
 ],
 "metadata": {
  "kernelspec": {
   "display_name": "Python 3",
   "language": "python",
   "name": "python3"
  },
  "language_info": {
   "codemirror_mode": {
    "name": "ipython",
    "version": 3
   },
   "file_extension": ".py",
   "mimetype": "text/x-python",
   "name": "python",
   "nbconvert_exporter": "python",
   "pygments_lexer": "ipython3",
   "version": "3.6.6"
  },
  "toc": {
   "base_numbering": 1,
   "nav_menu": {},
   "number_sections": true,
   "sideBar": true,
   "skip_h1_title": false,
   "title_cell": "Table of Contents",
   "title_sidebar": "Contents",
   "toc_cell": false,
   "toc_position": {},
   "toc_section_display": true,
   "toc_window_display": false
  },
  "varInspector": {
   "cols": {
    "lenName": 16,
    "lenType": 16,
    "lenVar": 40
   },
   "kernels_config": {
    "python": {
     "delete_cmd_postfix": "",
     "delete_cmd_prefix": "del ",
     "library": "var_list.py",
     "varRefreshCmd": "print(var_dic_list())"
    },
    "r": {
     "delete_cmd_postfix": ") ",
     "delete_cmd_prefix": "rm(",
     "library": "var_list.r",
     "varRefreshCmd": "cat(var_dic_list()) "
    }
   },
   "types_to_exclude": [
    "module",
    "function",
    "builtin_function_or_method",
    "instance",
    "_Feature"
   ],
   "window_display": false
  }
 },
 "nbformat": 4,
 "nbformat_minor": 2
}
