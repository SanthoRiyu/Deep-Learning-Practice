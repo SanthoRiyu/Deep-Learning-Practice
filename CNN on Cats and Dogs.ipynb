{
 "cells": [
  {
   "cell_type": "code",
   "execution_count": 1,
   "metadata": {
    "ExecuteTime": {
     "end_time": "2018-12-16T13:38:12.337694Z",
     "start_time": "2018-12-16T13:38:07.235194Z"
    }
   },
   "outputs": [],
   "source": [
    "import tensorflow as tf\n",
    "from tensorflow.keras.datasets import cifar10\n",
    "from tensorflow.keras.preprocessing.image import ImageDataGenerator\n",
    "from tensorflow.keras.models import Sequential\n",
    "from tensorflow.keras.layers import Dense, Dropout, Activation, Flatten \n",
    "from tensorflow.keras.layers import Conv2D, MaxPooling2D\n",
    "from tensorflow.keras.callbacks import TensorBoard\n",
    "import pickle\n",
    "import time\n",
    "\n",
    "\n",
    "pickle_in = open(\"X.pickle\",\"rb\")\n",
    "X = pickle.load(pickle_in)\n",
    "\n",
    "pickle_in = open(\"y.pickle\",\"rb\")\n",
    "y = pickle.load(pickle_in)\n",
    "\n",
    "#Normalize the data - Scale the data\n",
    "X = X/255.0\n",
    "\n",
    "tensorboard = TensorBoard(log_dir='logs/{}'.format(NAME))\n",
    "# NAME= \"cats-vs-Dogs-cnn-64x2-{}\".format(int(time.time()))\n"
   ]
  },
  {
   "cell_type": "code",
   "execution_count": 2,
   "metadata": {
    "ExecuteTime": {
     "end_time": "2018-12-16T13:38:15.377275Z",
     "start_time": "2018-12-16T13:38:12.343539Z"
    }
   },
   "outputs": [],
   "source": [
    "gpu_options=tf.GPUOptions(per_process_gpu_memory_fraction=0.333)\n",
    "sess=tf.Session(config=tf.ConfigProto(gpu_options=gpu_options))"
   ]
  },
  {
   "cell_type": "code",
   "execution_count": 11,
   "metadata": {
    "ExecuteTime": {
     "end_time": "2018-12-16T14:17:59.574717Z",
     "start_time": "2018-12-16T14:02:47.883012Z"
    }
   },
   "outputs": [
    {
     "name": "stdout",
     "output_type": "stream",
     "text": [
      "1-conv-32-nodes-0-dense1544968967\n",
      "Train on 17462 samples, validate on 7484 samples\n",
      "Epoch 1/3\n",
      "17462/17462 [==============================] - 10s 578us/step - loss: 0.6127 - acc: 0.6636 - val_loss: 0.5469 - val_acc: 0.7274\n",
      "Epoch 2/3\n",
      "17462/17462 [==============================] - 10s 563us/step - loss: 0.5056 - acc: 0.7576 - val_loss: 0.5123 - val_acc: 0.7484\n",
      "Epoch 3/3\n",
      "17462/17462 [==============================] - 10s 564us/step - loss: 0.4474 - acc: 0.7902 - val_loss: 0.5221 - val_acc: 0.7441\n",
      "2-conv-32-nodes-0-dense1544969002\n",
      "Train on 17462 samples, validate on 7484 samples\n",
      "Epoch 1/3\n",
      "17462/17462 [==============================] - 9s 536us/step - loss: 0.6047 - acc: 0.6641 - val_loss: 0.5278 - val_acc: 0.7372\n",
      "Epoch 2/3\n",
      "17462/17462 [==============================] - 9s 517us/step - loss: 0.4940 - acc: 0.7633 - val_loss: 0.4745 - val_acc: 0.7734\n",
      "Epoch 3/3\n",
      "17462/17462 [==============================] - 9s 516us/step - loss: 0.4381 - acc: 0.7944 - val_loss: 0.4714 - val_acc: 0.7742\n",
      "3-conv-32-nodes-0-dense1544969035\n",
      "Train on 17462 samples, validate on 7484 samples\n",
      "Epoch 1/3\n",
      "17462/17462 [==============================] - 9s 534us/step - loss: 0.6296 - acc: 0.6307 - val_loss: 0.5650 - val_acc: 0.6991\n",
      "Epoch 2/3\n",
      "17462/17462 [==============================] - 9s 515us/step - loss: 0.5197 - acc: 0.7438 - val_loss: 0.4956 - val_acc: 0.7612\n",
      "Epoch 3/3\n",
      "17462/17462 [==============================] - 9s 515us/step - loss: 0.4637 - acc: 0.7832 - val_loss: 0.4457 - val_acc: 0.7921\n",
      "1-conv-64-nodes-0-dense1544969068\n",
      "Train on 17462 samples, validate on 7484 samples\n",
      "Epoch 1/3\n",
      "17462/17462 [==============================] - 16s 944us/step - loss: 0.6257 - acc: 0.6565 - val_loss: 0.5837 - val_acc: 0.6875\n",
      "Epoch 2/3\n",
      "17462/17462 [==============================] - 16s 926us/step - loss: 0.5236 - acc: 0.7436 - val_loss: 0.5317 - val_acc: 0.7285\n",
      "Epoch 3/3\n",
      "17462/17462 [==============================] - 16s 928us/step - loss: 0.4550 - acc: 0.7847 - val_loss: 0.5373 - val_acc: 0.7300\n",
      "2-conv-64-nodes-0-dense1544969125\n",
      "Train on 17462 samples, validate on 7484 samples\n",
      "Epoch 1/3\n",
      "17462/17462 [==============================] - 16s 890us/step - loss: 0.6185 - acc: 0.6532 - val_loss: 0.5338 - val_acc: 0.7290\n",
      "Epoch 2/3\n",
      "17462/17462 [==============================] - 15s 871us/step - loss: 0.4999 - acc: 0.7542 - val_loss: 0.4788 - val_acc: 0.7692\n",
      "Epoch 3/3\n",
      "17462/17462 [==============================] - 15s 865us/step - loss: 0.4396 - acc: 0.7962 - val_loss: 0.4855 - val_acc: 0.7664\n",
      "3-conv-64-nodes-0-dense1544969178\n",
      "Train on 17462 samples, validate on 7484 samples\n",
      "Epoch 1/3\n",
      "17462/17462 [==============================] - 15s 886us/step - loss: 0.6370 - acc: 0.6257 - val_loss: 0.5735 - val_acc: 0.6999\n",
      "Epoch 2/3\n",
      "17462/17462 [==============================] - 15s 868us/step - loss: 0.5173 - acc: 0.7465 - val_loss: 0.4739 - val_acc: 0.7704\n",
      "Epoch 3/3\n",
      "17462/17462 [==============================] - 15s 871us/step - loss: 0.4440 - acc: 0.7924 - val_loss: 0.4874 - val_acc: 0.7684\n",
      "1-conv-128-nodes-0-dense1544969233\n",
      "Train on 17462 samples, validate on 7484 samples\n",
      "Epoch 1/3\n",
      "17462/17462 [==============================] - 29s 2ms/step - loss: 0.6349 - acc: 0.6543 - val_loss: 0.5669 - val_acc: 0.7167\n",
      "Epoch 2/3\n",
      "17462/17462 [==============================] - 29s 2ms/step - loss: 0.5268 - acc: 0.7412 - val_loss: 0.5563 - val_acc: 0.7114\n",
      "Epoch 3/3\n",
      "17462/17462 [==============================] - 29s 2ms/step - loss: 0.4557 - acc: 0.7863 - val_loss: 0.5198 - val_acc: 0.7479\n",
      "2-conv-128-nodes-0-dense1544969329\n",
      "Train on 17462 samples, validate on 7484 samples\n",
      "Epoch 1/3\n",
      "17462/17462 [==============================] - 29s 2ms/step - loss: 0.6438 - acc: 0.6100 - val_loss: 0.5950 - val_acc: 0.6796\n",
      "Epoch 2/3\n",
      "17462/17462 [==============================] - 28s 2ms/step - loss: 0.5321 - acc: 0.7335 - val_loss: 0.5038 - val_acc: 0.7564\n",
      "Epoch 3/3\n",
      "17462/17462 [==============================] - 29s 2ms/step - loss: 0.4620 - acc: 0.7819 - val_loss: 0.4588 - val_acc: 0.7845\n",
      "3-conv-128-nodes-0-dense1544969425\n",
      "Train on 17462 samples, validate on 7484 samples\n",
      "Epoch 1/3\n",
      "17462/17462 [==============================] - 29s 2ms/step - loss: 0.6499 - acc: 0.6112 - val_loss: 0.5752 - val_acc: 0.6988\n",
      "Epoch 2/3\n",
      "17462/17462 [==============================] - 28s 2ms/step - loss: 0.5198 - acc: 0.7433 - val_loss: 0.4924 - val_acc: 0.7622: 0.5216 - acc\n",
      "Epoch 3/3\n",
      "17462/17462 [==============================] - 28s 2ms/step - loss: 0.4429 - acc: 0.7925 - val_loss: 0.4450 - val_acc: 0.7871\n",
      "1-conv-32-nodes-1-dense1544969525\n",
      "Train on 17462 samples, validate on 7484 samples\n",
      "Epoch 1/3\n",
      "17462/17462 [==============================] - 11s 646us/step - loss: 0.6302 - acc: 0.6421 - val_loss: 0.5720 - val_acc: 0.7121\n",
      "Epoch 2/3\n",
      "17462/17462 [==============================] - 10s 594us/step - loss: 0.5343 - acc: 0.7311 - val_loss: 0.5470 - val_acc: 0.7199\n",
      "Epoch 3/3\n",
      "17462/17462 [==============================] - 10s 586us/step - loss: 0.4789 - acc: 0.7728 - val_loss: 0.5341 - val_acc: 0.7353\n",
      "2-conv-32-nodes-1-dense1544969569\n",
      "Train on 17462 samples, validate on 7484 samples\n",
      "Epoch 1/3\n",
      "17462/17462 [==============================] - 10s 552us/step - loss: 0.6273 - acc: 0.6461 - val_loss: 0.5905 - val_acc: 0.6778\n",
      "Epoch 2/3\n",
      "17462/17462 [==============================] - 9s 533us/step - loss: 0.5231 - acc: 0.7428 - val_loss: 0.4912 - val_acc: 0.7644\n",
      "Epoch 3/3\n",
      "17462/17462 [==============================] - 9s 531us/step - loss: 0.4601 - acc: 0.7835 - val_loss: 0.4809 - val_acc: 0.7687\n",
      "3-conv-32-nodes-1-dense1544969611\n",
      "Train on 17462 samples, validate on 7484 samples\n",
      "Epoch 1/3\n",
      "17462/17462 [==============================] - 10s 558us/step - loss: 0.6348 - acc: 0.6297 - val_loss: 0.5738 - val_acc: 0.6988\n",
      "Epoch 2/3\n",
      "17462/17462 [==============================] - 9s 526us/step - loss: 0.5310 - acc: 0.7346 - val_loss: 0.4894 - val_acc: 0.7662\n",
      "Epoch 3/3\n",
      "17462/17462 [==============================] - 9s 535us/step - loss: 0.4735 - acc: 0.7781 - val_loss: 0.4933 - val_acc: 0.7688\n",
      "1-conv-64-nodes-1-dense1544969652\n",
      "Train on 17462 samples, validate on 7484 samples\n",
      "Epoch 1/3\n",
      "17462/17462 [==============================] - 17s 981us/step - loss: 0.7077 - acc: 0.4958 - val_loss: 0.6932 - val_acc: 0.4961\n",
      "Epoch 2/3\n",
      "17462/17462 [==============================] - 16s 939us/step - loss: 0.6932 - acc: 0.5015 - val_loss: 0.6932 - val_acc: 0.4961\n",
      "Epoch 3/3\n",
      "17462/17462 [==============================] - 16s 938us/step - loss: 0.6932 - acc: 0.5005 - val_loss: 0.6932 - val_acc: 0.4961\n",
      "2-conv-64-nodes-1-dense1544969720\n",
      "Train on 17462 samples, validate on 7484 samples\n",
      "Epoch 1/3\n",
      "17462/17462 [==============================] - 16s 915us/step - loss: 0.6250 - acc: 0.6417 - val_loss: 0.5421 - val_acc: 0.7317\n",
      "Epoch 2/3\n",
      "17462/17462 [==============================] - 16s 913us/step - loss: 0.5140 - acc: 0.7476 - val_loss: 0.4749 - val_acc: 0.7720\n",
      "Epoch 3/3\n",
      "17462/17462 [==============================] - 16s 895us/step - loss: 0.4579 - acc: 0.7830 - val_loss: 0.4616 - val_acc: 0.7839\n",
      "3-conv-64-nodes-1-dense1544969782\n",
      "Train on 17462 samples, validate on 7484 samples\n",
      "Epoch 1/3\n",
      "17462/17462 [==============================] - 16s 910us/step - loss: 0.6471 - acc: 0.6190 - val_loss: 0.5751 - val_acc: 0.7066\n",
      "Epoch 2/3\n",
      "17462/17462 [==============================] - 15s 870us/step - loss: 0.5333 - acc: 0.7319 - val_loss: 0.5037 - val_acc: 0.7548\n",
      "Epoch 3/3\n",
      "17462/17462 [==============================] - 16s 903us/step - loss: 0.4685 - acc: 0.7777 - val_loss: 0.4549 - val_acc: 0.7822\n",
      "1-conv-128-nodes-1-dense1544969848\n",
      "Train on 17462 samples, validate on 7484 samples\n",
      "Epoch 1/3\n",
      "   32/17462 [..............................] - ETA: 5:26 - loss: 0.6967 - acc: 0.5312"
     ]
    },
    {
     "ename": "ResourceExhaustedError",
     "evalue": "OOM when allocating tensor with shape[32,128,78,78] and type float on /job:localhost/replica:0/task:0/device:GPU:0 by allocator GPU_0_bfc\n\t [[{{node training_20/Adam/gradients/max_pooling2d_38/MaxPool_grad/MaxPoolGrad}} = MaxPoolGrad[T=DT_FLOAT, data_format=\"NCHW\", ksize=[1, 1, 2, 2], padding=\"VALID\", strides=[1, 1, 2, 2], _device=\"/job:localhost/replica:0/task:0/device:GPU:0\"](activation_76/Relu, max_pooling2d_38/MaxPool, training_20/Adam/gradients/max_pooling2d_38/MaxPool_grad/MaxPoolGrad-2-TransposeNHWCToNCHW-LayoutOptimizer)]]\nHint: If you want to see a list of allocated tensors when OOM happens, add report_tensor_allocations_upon_oom to RunOptions for current allocation info.\n",
     "output_type": "error",
     "traceback": [
      "\u001b[1;31m---------------------------------------------------------------------------\u001b[0m",
      "\u001b[1;31mResourceExhaustedError\u001b[0m                    Traceback (most recent call last)",
      "\u001b[1;32m<ipython-input-11-a8eff5af0233>\u001b[0m in \u001b[0;36m<module>\u001b[1;34m\u001b[0m\n\u001b[0;32m     36\u001b[0m                          metrics=['accuracy'])\n\u001b[0;32m     37\u001b[0m \u001b[1;33m\u001b[0m\u001b[0m\n\u001b[1;32m---> 38\u001b[1;33m             \u001b[0mmodel\u001b[0m\u001b[1;33m.\u001b[0m\u001b[0mfit\u001b[0m\u001b[1;33m(\u001b[0m\u001b[0mX\u001b[0m\u001b[1;33m,\u001b[0m\u001b[0my\u001b[0m\u001b[1;33m,\u001b[0m \u001b[0mepochs\u001b[0m\u001b[1;33m=\u001b[0m\u001b[1;36m3\u001b[0m\u001b[1;33m,\u001b[0m \u001b[0mbatch_size\u001b[0m\u001b[1;33m=\u001b[0m\u001b[1;36m32\u001b[0m\u001b[1;33m,\u001b[0m \u001b[0mvalidation_split\u001b[0m\u001b[1;33m=\u001b[0m\u001b[1;36m0.3\u001b[0m\u001b[1;33m,\u001b[0m \u001b[0mverbose\u001b[0m\u001b[1;33m=\u001b[0m\u001b[1;36m1\u001b[0m\u001b[1;33m,\u001b[0m \u001b[0mcallbacks\u001b[0m\u001b[1;33m=\u001b[0m\u001b[1;33m[\u001b[0m\u001b[0mtensorboard\u001b[0m\u001b[1;33m]\u001b[0m\u001b[1;33m)\u001b[0m\u001b[1;33m\u001b[0m\u001b[0m\n\u001b[0m\u001b[0;32m     39\u001b[0m \u001b[1;33m\u001b[0m\u001b[0m\n",
      "\u001b[1;32m~\\Anaconda3\\lib\\site-packages\\tensorflow\\python\\keras\\engine\\training.py\u001b[0m in \u001b[0;36mfit\u001b[1;34m(self, x, y, batch_size, epochs, verbose, callbacks, validation_split, validation_data, shuffle, class_weight, sample_weight, initial_epoch, steps_per_epoch, validation_steps, max_queue_size, workers, use_multiprocessing, **kwargs)\u001b[0m\n\u001b[0;32m   1637\u001b[0m           \u001b[0minitial_epoch\u001b[0m\u001b[1;33m=\u001b[0m\u001b[0minitial_epoch\u001b[0m\u001b[1;33m,\u001b[0m\u001b[1;33m\u001b[0m\u001b[0m\n\u001b[0;32m   1638\u001b[0m           \u001b[0msteps_per_epoch\u001b[0m\u001b[1;33m=\u001b[0m\u001b[0msteps_per_epoch\u001b[0m\u001b[1;33m,\u001b[0m\u001b[1;33m\u001b[0m\u001b[0m\n\u001b[1;32m-> 1639\u001b[1;33m           validation_steps=validation_steps)\n\u001b[0m\u001b[0;32m   1640\u001b[0m \u001b[1;33m\u001b[0m\u001b[0m\n\u001b[0;32m   1641\u001b[0m   def evaluate(self,\n",
      "\u001b[1;32m~\\Anaconda3\\lib\\site-packages\\tensorflow\\python\\keras\\engine\\training_arrays.py\u001b[0m in \u001b[0;36mfit_loop\u001b[1;34m(model, inputs, targets, sample_weights, batch_size, epochs, verbose, callbacks, val_inputs, val_targets, val_sample_weights, shuffle, initial_epoch, steps_per_epoch, validation_steps)\u001b[0m\n\u001b[0;32m    213\u001b[0m           \u001b[0mins_batch\u001b[0m\u001b[1;33m[\u001b[0m\u001b[0mi\u001b[0m\u001b[1;33m]\u001b[0m \u001b[1;33m=\u001b[0m \u001b[0mins_batch\u001b[0m\u001b[1;33m[\u001b[0m\u001b[0mi\u001b[0m\u001b[1;33m]\u001b[0m\u001b[1;33m.\u001b[0m\u001b[0mtoarray\u001b[0m\u001b[1;33m(\u001b[0m\u001b[1;33m)\u001b[0m\u001b[1;33m\u001b[0m\u001b[0m\n\u001b[0;32m    214\u001b[0m \u001b[1;33m\u001b[0m\u001b[0m\n\u001b[1;32m--> 215\u001b[1;33m         \u001b[0mouts\u001b[0m \u001b[1;33m=\u001b[0m \u001b[0mf\u001b[0m\u001b[1;33m(\u001b[0m\u001b[0mins_batch\u001b[0m\u001b[1;33m)\u001b[0m\u001b[1;33m\u001b[0m\u001b[0m\n\u001b[0m\u001b[0;32m    216\u001b[0m         \u001b[1;32mif\u001b[0m \u001b[1;32mnot\u001b[0m \u001b[0misinstance\u001b[0m\u001b[1;33m(\u001b[0m\u001b[0mouts\u001b[0m\u001b[1;33m,\u001b[0m \u001b[0mlist\u001b[0m\u001b[1;33m)\u001b[0m\u001b[1;33m:\u001b[0m\u001b[1;33m\u001b[0m\u001b[0m\n\u001b[0;32m    217\u001b[0m           \u001b[0mouts\u001b[0m \u001b[1;33m=\u001b[0m \u001b[1;33m[\u001b[0m\u001b[0mouts\u001b[0m\u001b[1;33m]\u001b[0m\u001b[1;33m\u001b[0m\u001b[0m\n",
      "\u001b[1;32m~\\Anaconda3\\lib\\site-packages\\tensorflow\\python\\keras\\backend.py\u001b[0m in \u001b[0;36m__call__\u001b[1;34m(self, inputs)\u001b[0m\n\u001b[0;32m   2984\u001b[0m \u001b[1;33m\u001b[0m\u001b[0m\n\u001b[0;32m   2985\u001b[0m     fetched = self._callable_fn(*array_vals,\n\u001b[1;32m-> 2986\u001b[1;33m                                 run_metadata=self.run_metadata)\n\u001b[0m\u001b[0;32m   2987\u001b[0m     \u001b[0mself\u001b[0m\u001b[1;33m.\u001b[0m\u001b[0m_call_fetch_callbacks\u001b[0m\u001b[1;33m(\u001b[0m\u001b[0mfetched\u001b[0m\u001b[1;33m[\u001b[0m\u001b[1;33m-\u001b[0m\u001b[0mlen\u001b[0m\u001b[1;33m(\u001b[0m\u001b[0mself\u001b[0m\u001b[1;33m.\u001b[0m\u001b[0m_fetches\u001b[0m\u001b[1;33m)\u001b[0m\u001b[1;33m:\u001b[0m\u001b[1;33m]\u001b[0m\u001b[1;33m)\u001b[0m\u001b[1;33m\u001b[0m\u001b[0m\n\u001b[0;32m   2988\u001b[0m     \u001b[1;32mreturn\u001b[0m \u001b[0mfetched\u001b[0m\u001b[1;33m[\u001b[0m\u001b[1;33m:\u001b[0m\u001b[0mlen\u001b[0m\u001b[1;33m(\u001b[0m\u001b[0mself\u001b[0m\u001b[1;33m.\u001b[0m\u001b[0moutputs\u001b[0m\u001b[1;33m)\u001b[0m\u001b[1;33m]\u001b[0m\u001b[1;33m\u001b[0m\u001b[0m\n",
      "\u001b[1;32m~\\Anaconda3\\lib\\site-packages\\tensorflow\\python\\client\\session.py\u001b[0m in \u001b[0;36m__call__\u001b[1;34m(self, *args, **kwargs)\u001b[0m\n\u001b[0;32m   1437\u001b[0m           ret = tf_session.TF_SessionRunCallable(\n\u001b[0;32m   1438\u001b[0m               \u001b[0mself\u001b[0m\u001b[1;33m.\u001b[0m\u001b[0m_session\u001b[0m\u001b[1;33m.\u001b[0m\u001b[0m_session\u001b[0m\u001b[1;33m,\u001b[0m \u001b[0mself\u001b[0m\u001b[1;33m.\u001b[0m\u001b[0m_handle\u001b[0m\u001b[1;33m,\u001b[0m \u001b[0margs\u001b[0m\u001b[1;33m,\u001b[0m \u001b[0mstatus\u001b[0m\u001b[1;33m,\u001b[0m\u001b[1;33m\u001b[0m\u001b[0m\n\u001b[1;32m-> 1439\u001b[1;33m               run_metadata_ptr)\n\u001b[0m\u001b[0;32m   1440\u001b[0m         \u001b[1;32mif\u001b[0m \u001b[0mrun_metadata\u001b[0m\u001b[1;33m:\u001b[0m\u001b[1;33m\u001b[0m\u001b[0m\n\u001b[0;32m   1441\u001b[0m           \u001b[0mproto_data\u001b[0m \u001b[1;33m=\u001b[0m \u001b[0mtf_session\u001b[0m\u001b[1;33m.\u001b[0m\u001b[0mTF_GetBuffer\u001b[0m\u001b[1;33m(\u001b[0m\u001b[0mrun_metadata_ptr\u001b[0m\u001b[1;33m)\u001b[0m\u001b[1;33m\u001b[0m\u001b[0m\n",
      "\u001b[1;32m~\\Anaconda3\\lib\\site-packages\\tensorflow\\python\\framework\\errors_impl.py\u001b[0m in \u001b[0;36m__exit__\u001b[1;34m(self, type_arg, value_arg, traceback_arg)\u001b[0m\n\u001b[0;32m    526\u001b[0m             \u001b[1;32mNone\u001b[0m\u001b[1;33m,\u001b[0m \u001b[1;32mNone\u001b[0m\u001b[1;33m,\u001b[0m\u001b[1;33m\u001b[0m\u001b[0m\n\u001b[0;32m    527\u001b[0m             \u001b[0mcompat\u001b[0m\u001b[1;33m.\u001b[0m\u001b[0mas_text\u001b[0m\u001b[1;33m(\u001b[0m\u001b[0mc_api\u001b[0m\u001b[1;33m.\u001b[0m\u001b[0mTF_Message\u001b[0m\u001b[1;33m(\u001b[0m\u001b[0mself\u001b[0m\u001b[1;33m.\u001b[0m\u001b[0mstatus\u001b[0m\u001b[1;33m.\u001b[0m\u001b[0mstatus\u001b[0m\u001b[1;33m)\u001b[0m\u001b[1;33m)\u001b[0m\u001b[1;33m,\u001b[0m\u001b[1;33m\u001b[0m\u001b[0m\n\u001b[1;32m--> 528\u001b[1;33m             c_api.TF_GetCode(self.status.status))\n\u001b[0m\u001b[0;32m    529\u001b[0m     \u001b[1;31m# Delete the underlying status object from memory otherwise it stays alive\u001b[0m\u001b[1;33m\u001b[0m\u001b[1;33m\u001b[0m\u001b[0m\n\u001b[0;32m    530\u001b[0m     \u001b[1;31m# as there is a reference to status from this from the traceback due to\u001b[0m\u001b[1;33m\u001b[0m\u001b[1;33m\u001b[0m\u001b[0m\n",
      "\u001b[1;31mResourceExhaustedError\u001b[0m: OOM when allocating tensor with shape[32,128,78,78] and type float on /job:localhost/replica:0/task:0/device:GPU:0 by allocator GPU_0_bfc\n\t [[{{node training_20/Adam/gradients/max_pooling2d_38/MaxPool_grad/MaxPoolGrad}} = MaxPoolGrad[T=DT_FLOAT, data_format=\"NCHW\", ksize=[1, 1, 2, 2], padding=\"VALID\", strides=[1, 1, 2, 2], _device=\"/job:localhost/replica:0/task:0/device:GPU:0\"](activation_76/Relu, max_pooling2d_38/MaxPool, training_20/Adam/gradients/max_pooling2d_38/MaxPool_grad/MaxPoolGrad-2-TransposeNHWCToNCHW-LayoutOptimizer)]]\nHint: If you want to see a list of allocated tensors when OOM happens, add report_tensor_allocations_upon_oom to RunOptions for current allocation info.\n"
     ]
    }
   ],
   "source": [
    "\n",
    "dense_layers = [0,1,2]\n",
    "layer_sizes=[32,64,128]\n",
    "conv_layers =[1,2,3]\n",
    "\n",
    "for dense_layer in dense_layers:\n",
    "    for layer_size in layer_sizes:\n",
    "        for conv_layer in conv_layers:\n",
    "            NAME=\"{}-conv-{}-nodes-{}-dense{}\".format(conv_layer, layer_size, dense_layer, int(time.time()))\n",
    "            tensorboard = TensorBoard(log_dir='logs/{}'.format(NAME))\n",
    "            print(NAME)\n",
    "            model = Sequential()\n",
    "\n",
    "            model.add(Conv2D(layer_size, (3,3), input_shape = X.shape[1:]))\n",
    "            model.add(Activation(\"relu\"))\n",
    "            model.add(MaxPooling2D(pool_size=(2,2)))\n",
    "            \n",
    "            for l in range(conv_layer-1):\n",
    "                model.add(Conv2D(layer_size, (3,3)))\n",
    "                model.add(Activation(\"relu\"))\n",
    "                model.add(MaxPooling2D(pool_size=(2,2)))\n",
    "             \n",
    "            model.add(Flatten())\n",
    "            for l in range(dense_layer):\n",
    "                model.add(Dense(layer_size))\n",
    "                model.add(Activation(\"relu\"))\n",
    "                model.add(Dropout(0.2))\n",
    "\n",
    "            model.add(Dense(1))\n",
    "            model.add(Activation('sigmoid'))\n",
    "\n",
    "            model.compile(loss='binary_crossentropy',\n",
    "                         optimizer='adam',\n",
    "                         metrics=['accuracy'])\n",
    "\n",
    "            model.fit(X,y, epochs=3, batch_size=32, validation_split=0.3, verbose=1, callbacks=[tensorboard])\n",
    "\n"
   ]
  },
  {
   "cell_type": "code",
   "execution_count": 8,
   "metadata": {
    "ExecuteTime": {
     "end_time": "2018-12-16T13:54:50.637756Z",
     "start_time": "2018-12-16T13:54:50.630817Z"
    },
    "run_control": {
     "marked": false
    },
    "scrolled": true
   },
   "outputs": [
    {
     "name": "stdout",
     "output_type": "stream",
     "text": [
      "1-conv-32-nodes-0-dense1544968490\n",
      "2-conv-32-nodes-0-dense1544968490\n",
      "3-conv-32-nodes-0-dense1544968490\n",
      "1-conv-64-nodes-0-dense1544968490\n",
      "2-conv-64-nodes-0-dense1544968490\n",
      "3-conv-64-nodes-0-dense1544968490\n",
      "1-conv-128-nodes-0-dense1544968490\n",
      "2-conv-128-nodes-0-dense1544968490\n",
      "3-conv-128-nodes-0-dense1544968490\n",
      "1-conv-32-nodes-1-dense1544968490\n",
      "2-conv-32-nodes-1-dense1544968490\n",
      "3-conv-32-nodes-1-dense1544968490\n",
      "1-conv-64-nodes-1-dense1544968490\n",
      "2-conv-64-nodes-1-dense1544968490\n",
      "3-conv-64-nodes-1-dense1544968490\n",
      "1-conv-128-nodes-1-dense1544968490\n",
      "2-conv-128-nodes-1-dense1544968490\n",
      "3-conv-128-nodes-1-dense1544968490\n",
      "1-conv-32-nodes-2-dense1544968490\n",
      "2-conv-32-nodes-2-dense1544968490\n",
      "3-conv-32-nodes-2-dense1544968490\n",
      "1-conv-64-nodes-2-dense1544968490\n",
      "2-conv-64-nodes-2-dense1544968490\n",
      "3-conv-64-nodes-2-dense1544968490\n",
      "1-conv-128-nodes-2-dense1544968490\n",
      "2-conv-128-nodes-2-dense1544968490\n",
      "3-conv-128-nodes-2-dense1544968490\n"
     ]
    }
   ],
   "source": [
    "import time\n",
    "\n",
    "dense_layers = [0,1,2]\n",
    "layer_sizes=[32,64,128]\n",
    "conv_layers =[1,2,3]\n",
    "\n",
    "for dense_layer in dense_layers:\n",
    "    for layer_size in layer_sizes:\n",
    "        for conv_layer in conv_layers:\n",
    "            NAME=\"{}-conv-{}-nodes-{}-dense{}\".format(conv_layer, layer_size, dense_layer, int(time.time()))\n",
    "            print(NAME)\n"
   ]
  },
  {
   "cell_type": "code",
   "execution_count": 13,
   "metadata": {
    "ExecuteTime": {
     "end_time": "2018-12-16T14:32:06.212986Z",
     "start_time": "2018-12-16T14:29:13.545154Z"
    }
   },
   "outputs": [
    {
     "name": "stdout",
     "output_type": "stream",
     "text": [
      "Train on 17462 samples, validate on 7484 samples\n",
      "Epoch 1/10\n",
      "17462/17462 [==============================] - 16s 904us/step - loss: 0.6387 - acc: 0.6232 - val_loss: 0.5573 - val_acc: 0.7115\n",
      "Epoch 2/10\n",
      "17462/17462 [==============================] - 15s 874us/step - loss: 0.4969 - acc: 0.7592 - val_loss: 0.4534 - val_acc: 0.7861\n",
      "Epoch 3/10\n",
      "17462/17462 [==============================] - 15s 876us/step - loss: 0.4299 - acc: 0.8019 - val_loss: 0.4236 - val_acc: 0.8071\n",
      "Epoch 4/10\n",
      "17462/17462 [==============================] - 15s 877us/step - loss: 0.3794 - acc: 0.8263 - val_loss: 0.4047 - val_acc: 0.8181\n",
      "Epoch 5/10\n",
      "17462/17462 [==============================] - 15s 880us/step - loss: 0.3416 - acc: 0.8473 - val_loss: 0.4220 - val_acc: 0.8083\n",
      "Epoch 6/10\n",
      "17462/17462 [==============================] - 16s 889us/step - loss: 0.2956 - acc: 0.8716 - val_loss: 0.3873 - val_acc: 0.8320\n",
      "Epoch 7/10\n",
      "17462/17462 [==============================] - 16s 895us/step - loss: 0.2522 - acc: 0.8933 - val_loss: 0.4152 - val_acc: 0.8268\n",
      "Epoch 8/10\n",
      "17462/17462 [==============================] - 16s 888us/step - loss: 0.2116 - acc: 0.9112 - val_loss: 0.4431 - val_acc: 0.8322\n",
      "Epoch 9/10\n",
      "17462/17462 [==============================] - 16s 889us/step - loss: 0.1733 - acc: 0.9288 - val_loss: 0.4396 - val_acc: 0.8252\n",
      "Epoch 10/10\n",
      "17462/17462 [==============================] - 16s 894us/step - loss: 0.1346 - acc: 0.9469 - val_loss: 0.5130 - val_acc: 0.8318\n"
     ]
    },
    {
     "data": {
      "text/plain": [
       "<tensorflow.python.keras.callbacks.History at 0x2cf323d8550>"
      ]
     },
     "execution_count": 13,
     "metadata": {},
     "output_type": "execute_result"
    }
   ],
   "source": [
    "tensorboard = TensorBoard(log_dir='logs/{}'.format(NAME))\n",
    "NAME= \"cats-vs-Dogs-cnn-64x2-{}\".format(int(time.time()))\n",
    "model = Sequential()\n",
    "\n",
    "model.add(Conv2D((64), (3,3), input_shape = X.shape[1:]))\n",
    "model.add(Activation(\"relu\"))\n",
    "model.add(MaxPooling2D(pool_size=(2,2)))\n",
    "\n",
    "model.add(Conv2D((64), (3,3)))\n",
    "model.add(Activation(\"relu\"))\n",
    "model.add(MaxPooling2D(pool_size=(2,2)))\n",
    "\n",
    "model.add(Conv2D((64), (3,3)))\n",
    "model.add(Activation(\"relu\"))\n",
    "model.add(MaxPooling2D(pool_size=(2,2)))\n",
    "\n",
    "\n",
    "model.add(Flatten())\n",
    "\n",
    "model.add(Dense(64))\n",
    "model.add(Activation(\"relu\"))\n",
    "\n",
    "model.add(Dense(1))\n",
    "model.add(Activation('sigmoid'))\n",
    "\n",
    "model.compile(loss='binary_crossentropy',\n",
    "             optimizer='adam',\n",
    "             metrics=['accuracy'])\n",
    "model.fit(X,y, epochs=10, batch_size=32, validation_split=0.3, verbose=1, callbacks=[tensorboard])"
   ]
  },
  {
   "cell_type": "code",
   "execution_count": 14,
   "metadata": {
    "ExecuteTime": {
     "end_time": "2018-12-16T14:32:07.390852Z",
     "start_time": "2018-12-16T14:32:06.223929Z"
    }
   },
   "outputs": [],
   "source": [
    "model.save(\"64x3-CNN.model\")"
   ]
  },
  {
   "cell_type": "code",
   "execution_count": null,
   "metadata": {},
   "outputs": [],
   "source": []
  },
  {
   "cell_type": "code",
   "execution_count": null,
   "metadata": {},
   "outputs": [],
   "source": []
  },
  {
   "cell_type": "code",
   "execution_count": null,
   "metadata": {},
   "outputs": [],
   "source": []
  },
  {
   "cell_type": "code",
   "execution_count": null,
   "metadata": {},
   "outputs": [],
   "source": []
  },
  {
   "cell_type": "code",
   "execution_count": null,
   "metadata": {},
   "outputs": [],
   "source": []
  },
  {
   "cell_type": "code",
   "execution_count": null,
   "metadata": {},
   "outputs": [],
   "source": []
  },
  {
   "cell_type": "code",
   "execution_count": null,
   "metadata": {},
   "outputs": [],
   "source": []
  },
  {
   "cell_type": "code",
   "execution_count": null,
   "metadata": {},
   "outputs": [],
   "source": []
  },
  {
   "cell_type": "code",
   "execution_count": null,
   "metadata": {},
   "outputs": [],
   "source": []
  },
  {
   "cell_type": "code",
   "execution_count": null,
   "metadata": {},
   "outputs": [],
   "source": []
  },
  {
   "cell_type": "code",
   "execution_count": null,
   "metadata": {},
   "outputs": [],
   "source": []
  }
 ],
 "metadata": {
  "kernelspec": {
   "display_name": "Python 3",
   "language": "python",
   "name": "python3"
  },
  "language_info": {
   "codemirror_mode": {
    "name": "ipython",
    "version": 3
   },
   "file_extension": ".py",
   "mimetype": "text/x-python",
   "name": "python",
   "nbconvert_exporter": "python",
   "pygments_lexer": "ipython3",
   "version": "3.6.6"
  },
  "toc": {
   "base_numbering": 1,
   "nav_menu": {},
   "number_sections": true,
   "sideBar": true,
   "skip_h1_title": false,
   "title_cell": "Table of Contents",
   "title_sidebar": "Contents",
   "toc_cell": false,
   "toc_position": {},
   "toc_section_display": true,
   "toc_window_display": false
  },
  "varInspector": {
   "cols": {
    "lenName": 16,
    "lenType": 16,
    "lenVar": 40
   },
   "kernels_config": {
    "python": {
     "delete_cmd_postfix": "",
     "delete_cmd_prefix": "del ",
     "library": "var_list.py",
     "varRefreshCmd": "print(var_dic_list())"
    },
    "r": {
     "delete_cmd_postfix": ") ",
     "delete_cmd_prefix": "rm(",
     "library": "var_list.r",
     "varRefreshCmd": "cat(var_dic_list()) "
    }
   },
   "types_to_exclude": [
    "module",
    "function",
    "builtin_function_or_method",
    "instance",
    "_Feature"
   ],
   "window_display": false
  }
 },
 "nbformat": 4,
 "nbformat_minor": 2
}
